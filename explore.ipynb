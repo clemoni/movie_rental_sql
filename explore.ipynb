{
 "cells": [
  {
   "cell_type": "code",
   "execution_count": 3,
   "metadata": {},
   "outputs": [],
   "source": [
    "# Exploration of movie rental Database using SQL\n",
    "\n"
   ]
  },
  {
   "cell_type": "markdown",
   "metadata": {},
   "source": [
    "##Project Descripton (*source UDACITY*)\n",
    "\n",
    "In this project, you will use SQL to explore a database related to movie rentals. You will write SQL code to run SQL queries and answer interesting questions about the database. As part of your project submission, you will run SQL queries and build visualizations to showcase the output of your queries.\n",
    "\n",
    "The project submission is a presentation, which will be reviewed, and for which you will need to Meet Expectations to pass. For the presentation component, you will create four slides. Each slide will:\n",
    "\n",
    "- Have a question of interest.\n",
    "- Have a supporting SQL query needed to answer the question.\n",
    "- Have a supporting visualization created using the final data of your SQL query that - answers your question of interest.\n",
    "You will submit your project at the end of the project lessons. Your project will include:\n",
    "\n",
    "A set of slides with a question, visualization, and small summary on each slide.\n",
    "A text file with your queries needed to answer each of the four questions.\n",
    "The essentials of your project submission are discussed on the page labeled as Project Submission."
   ]
  },
  {
   "cell_type": "markdown",
   "metadata": {},
   "source": []
  },
  {
   "cell_type": "code",
   "execution_count": null,
   "metadata": {},
   "outputs": [],
   "source": []
  }
 ],
 "metadata": {
  "interpreter": {
   "hash": "aee8b7b246df8f9039afb4144a1f6fd8d2ca17a180786b69acc140d282b71a49"
  },
  "kernelspec": {
   "display_name": "Python 3.9.1 64-bit",
   "name": "python3"
  },
  "language_info": {
   "codemirror_mode": {
    "name": "ipython",
    "version": 3
   },
   "file_extension": ".py",
   "mimetype": "text/x-python",
   "name": "python",
   "nbconvert_exporter": "python",
   "pygments_lexer": "ipython3",
   "version": "3.7.10"
  },
  "orig_nbformat": 4
 },
 "nbformat": 4,
 "nbformat_minor": 2
}